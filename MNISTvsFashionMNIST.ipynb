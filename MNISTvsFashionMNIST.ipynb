{
 "cells": [
  {
   "cell_type": "code",
   "execution_count": null,
   "metadata": {},
   "outputs": [],
   "source": [
    "from data import mnist\n",
    "from matplotlib import pyplot as plt\n",
    "import torch\n",
    "from networks import ResNet, ProjResNet, DynResNet\n",
    "from optimisation import train\n",
    "import numpy as np\n"
   ]
  },
  {
   "cell_type": "code",
   "execution_count": null,
   "metadata": {},
   "outputs": [],
   "source": [
    "N = 1500\n",
    "V = 1500\n",
    "batch_size = 5\n",
    "\n",
    "L = 10\n",
    "max_epochs = 3\n",
    "\n",
    "\n"
   ]
  },
  {
   "cell_type": "code",
   "execution_count": null,
   "metadata": {},
   "outputs": [],
   "source": [
    "\n",
    "#### STANDARD RESNET\n",
    "# DATA\n",
    "data_mnist = mnist( N, V, batch_size, k=28, transform='none')\n",
    "data_fashion = mnist( N, V, batch_size, k=28, transform='none')\n",
    "# NETWORK\n",
    "# CONSTRUCT NETWORK\n",
    "net_mnist = ResNet(data_mnist, L=10, trainable_stepsize=True, d_hat='none')\n",
    "net_fashion = ResNet(data_fashion, L=10, trainable_stepsize=True, d_hat='none')\n",
    "\n"
   ]
  },
  {
   "cell_type": "code",
   "execution_count": null,
   "metadata": {},
   "outputs": [],
   "source": [
    "# TRAIN NETWORK\n",
    "torch.autograd.set_detect_anomaly(True)\n",
    "_, acc_train_mnist, _, acc_val_mnist = train(net_mnist,  max_epochs = max_epochs)\n",
    "_, acc_train_fashion, _, acc_val_fashion = train(net_fashion,  max_epochs = max_epochs)\n"
   ]
  },
  {
   "cell_type": "code",
   "execution_count": null,
   "metadata": {},
   "outputs": [],
   "source": [
    "\n",
    "#### PROJECTION RESNET\n",
    "# DATA\n",
    "data_mnist_svd = mnist( N, V, batch_size, k=3, transform='svd')\n",
    "data_fashion_svd = mnist( N, V, batch_size, k=3, transform='svd')\n",
    "# NETWORK\n",
    "# CONSTRUCT NETWORK\n",
    "ProjNet_mnist = ProjResNet(data_mnist_svd, L=10, trainable_stepsize=True, d_hat='none')\n",
    "ProjNet_fashion = ProjResNet(data_fashion_svd, L=10, trainable_stepsize=True, d_hat='none')"
   ]
  },
  {
   "cell_type": "code",
   "execution_count": null,
   "metadata": {},
   "outputs": [],
   "source": [
    "# TRAIN NETWORK\n",
    "torch.autograd.set_detect_anomaly(True)\n",
    "_, Proj_acc_train_mnist, _, Proj_acc_val_mnist = train(ProjNet_mnist,  max_epochs = max_epochs)\n",
    "_, Proj_acc_train_fashion, _, Proj_acc_val_fashion = train(ProjNet_fashion,  max_epochs = max_epochs)"
   ]
  },
  {
   "cell_type": "code",
   "execution_count": null,
   "metadata": {},
   "outputs": [],
   "source": [
    "#### DYNAMIC LOW-RANK NET\n",
    "# DATA\n",
    "#data_mnist_svd = mnist( N, V, batch_size, k=3, transform='svd')\n",
    "#data_fashion_svd = mnist( N, V, batch_size, k=3, transform='svd')\n",
    "# NETWORK\n",
    "# CONSTRUCT NETWORK\n",
    "DynResNet_mnist = DynResNet(data_mnist_svd, L=10, d_hat='none')\n",
    "DynResNet_fashion = DynResNet(data_fashion_svd, L=10, d_hat='none')\n",
    "# TRAIN NETWORK\n",
    "torch.autograd.set_detect_anomaly(True)\n",
    "_, Dyn_acc_train_mnist, _, Dyn_acc_val_mnist = train(DynResNet_mnist,  max_epochs = max_epochs)\n",
    "_, Dyn_acc_train_fashion, _, Dyn_acc_val_fashion = train(DynResNet_fashion,  max_epochs = max_epochs)\n"
   ]
  },
  {
   "cell_type": "code",
   "execution_count": null,
   "metadata": {},
   "outputs": [],
   "source": [
    "\n",
    "# plot accurracy\n",
    "\n",
    "plt.figure(figsize=(15, 8), dpi=80)\n",
    "### ResNet\n",
    "plt.plot(range(len(acc_train_mnist)), acc_train_mnist, 'tab:orange', label = 'mnist')\n",
    "plt.plot(range(len(acc_val_mnist)), acc_val_mnist, 'tab:orange', linestyle='--')\n",
    "\n",
    "plt.plot(range(len(acc_train_fashion)), acc_train_fashion, 'tab:purple', label = 'fashion' )\n",
    "plt.plot(range(len(acc_val_fashion)), acc_val_fashion, 'tab:purple', linestyle='--')\n",
    "\n",
    "# ProjNet\n",
    "plt.plot(range(len(Proj_acc_train_mnist)), Proj_acc_train_mnist, 'tab:green', label = 'Proj. mnist')\n",
    "plt.plot(range(len(Proj_acc_val_mnist)), Proj_acc_val_mnist, 'tab:green', linestyle='--')\n",
    "\n",
    "plt.plot(range(len(Proj_acc_train_fashion)), Proj_acc_train_fashion, 'tab:cyan', label = 'Proj. fashion' )\n",
    "plt.plot(range(len(Proj_acc_val_fashion)), Proj_acc_val_fashion, 'tab:cyan', linestyle='--')\n",
    "\n",
    "# DynNet\n",
    "plt.plot(range(len(Dyn_acc_train_mnist)), Dyn_acc_train_mnist, 'tab:brown', label = 'Dyn. mnist' )\n",
    "plt.plot(range(len(Dyn_acc_val_mnist)), Dyn_acc_val_mnist, 'tab:brown', linestyle='--')\n",
    "\n",
    "plt.plot(range(len(Dyn_acc_train_mnist)), Dyn_acc_train_mnist, 'tab:gray', label = 'Dyn. fashion' )\n",
    "plt.plot(range(len(Dyn_acc_val_mnist)), Dyn_acc_val_mnist, 'tab:gray', linestyle='--')\n",
    "\n",
    "plt.legend()\n",
    "plt.ylabel('accuracy')\n",
    "plt.xlabel('epochs')\n",
    "plt.title(r'MNIST vs FashionMNIST ')\n",
    "#plt.savefig('MNISTvsFashionMNIST_accuracy.png')\n",
    "plt.show()\n"
   ]
  },
  {
   "cell_type": "code",
   "execution_count": null,
   "metadata": {},
   "outputs": [],
   "source": [
    "\n",
    "# plot orthogonality \n",
    "\n",
    "s, err_U_Proj_mnist, err_V_Proj_mnist = ProjNet_mnist.orthogonality \n",
    "print(s)\n",
    "s, err_U_Proj_fashion, err_V_Proj_fashion = ProjNet_fashion.orthogonality \n",
    "print(s)\n",
    "print(\"\\n\")\n",
    "\n",
    "\n",
    "\n",
    "s, err_U_Dyn_mnist, err_V_Dyn_mnist = DynResNet_mnist.orthogonality\n",
    "print(s)\n",
    "s, err_U_Dyn_fashion, err_V_Dyn_fashion = DynResNet_fashion.orthogonality\n",
    "print(s)\n",
    "\n",
    "\n"
   ]
  },
  {
   "cell_type": "code",
   "execution_count": null,
   "metadata": {},
   "outputs": [],
   "source": [
    "plt.figure(figsize=(15, 8), dpi=80)\n",
    "### ResNet\n",
    "\n",
    "\n",
    "# ProjNet\n",
    "plt.plot(range(len(err_U_Proj_mnist)), err_U_Proj_mnist, 'tab:green', label = 'Proj. mnist')\n",
    "plt.plot(range(len(err_U_Proj_fashion)), err_U_Proj_fashion, 'tab:cyan', label = 'Proj. fashion' )\n",
    "\n",
    "\n",
    "# DynNet\n",
    "plt.plot(range(len(err_U_Dyn_mnist)), err_U_Dyn_mnist, 'tab:brown', label = 'Dyn. mnist' )\n",
    "plt.plot(range(len(err_U_Dyn_fashion)), err_U_Dyn_fashion, 'tab:gray', label = 'Dyn. fashion' )\n",
    "\n",
    "\n",
    "\n",
    "plt.legend()\n",
    "plt.ylabel('error')\n",
    "plt.xlabel('layers')\n",
    "plt.title(r' $|| I - U^T U ||_F$')\n",
    "#plt.savefig('MNISTvsFashionMNIST_accuracy.png')\n",
    "plt.show()"
   ]
  },
  {
   "cell_type": "code",
   "execution_count": null,
   "metadata": {},
   "outputs": [],
   "source": [
    "plt.figure(figsize=(15, 8), dpi=80)\n",
    "### ResNet\n",
    "\n",
    "# ProjNet\n",
    "plt.plot(range(len(err_V_Proj_mnist)), err_V_Proj_mnist, 'tab:green', label = 'Proj. mnist')\n",
    "plt.plot(range(len(err_V_Proj_fashion)), err_V_Proj_fashion, 'tab:cyan', label = 'Proj. fashion' )\n",
    "\n",
    "\n",
    "# DynNet\n",
    "plt.plot(range(len(err_V_Dyn_mnist)), err_V_Dyn_mnist, 'tab:brown', label = 'Dyn. mnist' )\n",
    "plt.plot(range(len(err_V_Dyn_fashion)), err_V_Dyn_fashion, 'tab:gray', label = 'Dyn. fashion' )\n",
    "\n",
    "\n",
    "\n",
    "plt.legend()\n",
    "plt.ylabel('error')\n",
    "plt.xlabel('layers')\n",
    "plt.title(r' $|| I - V^T V ||_F$')\n",
    "#plt.savefig('MNISTvsFashionMNIST_accuracy.png')\n",
    "plt.show()"
   ]
  },
  {
   "cell_type": "code",
   "execution_count": null,
   "metadata": {},
   "outputs": [],
   "source": [
    "# Rank evolution \n",
    "\n",
    "ranks_mnist = net_mnist.rank_evolution\n",
    "ranks_fashion = net_fashion.rank_evolution\n",
    "\n",
    "ranks_proj_mnist = ProjNet_mnist.rank_evolution\n",
    "ranks_proj_fashion = ProjNet_fashion.rank_evolution\n",
    "\n",
    "ranks_dyn_mnist = DynResNet_mnist.rank_evolution\n",
    "ranks_dyn_fashion = DynResNet_fashion.rank_evolution\n",
    "\n",
    "\n",
    "plt.figure(figsize=(15, 8), dpi=80)\n",
    "\n",
    "### ResNet\n",
    "plt.plot(range(len(ranks_mnist)), ranks_mnist, 'tab:orange', linewidth=4, label = 'mnist')\n",
    "plt.plot(range(len(ranks_fashion)), ranks_fashion, 'tab:purple',linewidth=1, label = 'fashion' )\n",
    "\n",
    "# ProjNet\n",
    "plt.plot(range(len(ranks_proj_mnist)), ranks_proj_mnist, 'tab:green',linewidth=10, label = 'Proj. mnist')\n",
    "plt.plot(range(len(ranks_proj_fashion)), ranks_proj_fashion, 'tab:cyan', linewidth=7,  label = 'Proj. fashion' )\n",
    "\n",
    "\n",
    "# DynNet\n",
    "plt.plot(range(len(ranks_dyn_mnist)), ranks_dyn_mnist, 'tab:brown', linewidth=4, label = 'Dyn. mnist' )\n",
    "plt.plot(range(len(ranks_dyn_fashion)), ranks_dyn_fashion, 'tab:gray',linewidth=1, label = 'Dyn. fashion' )\n",
    "\n",
    "plt.legend()\n",
    "plt.ylabel('error')\n",
    "plt.xlabel('layers')\n",
    "plt.title(r'rank$(X)$')\n",
    "#plt.savefig('MNISTvsFashionMNIST_accuracy.png')\n",
    "plt.show()"
   ]
  },
  {
   "cell_type": "code",
   "execution_count": null,
   "metadata": {},
   "outputs": [],
   "source": [
    "# integration error ..  ? \n",
    "\n",
    "Ierr_U_Proj_mnist, Ierr_V_Proj_mnist = ProjNet_mnist.get_integration_error\n",
    "Ierr_U_Proj_fashion, Ierr_V_Proj_fashion = ProjNet_fashion.get_integration_error\n",
    "\n",
    "Ierr_U_Dyn_mnist, Ierr_V_Dyn_mnist = DynResNet_mnist.plot_integration_error\n",
    "Ierr_U_Dyn_fashion, Ierr_V_Dyn_fashion = DynResNet_fashion.plot_integration_error"
   ]
  },
  {
   "cell_type": "code",
   "execution_count": null,
   "metadata": {},
   "outputs": [],
   "source": [
    "plt.figure(figsize=(15, 8), dpi=80)\n",
    "### ResNet\n",
    "\n",
    "# ProjNet\n",
    "plt.plot(range(len(Ierr_U_Proj_mnist)), Ierr_U_Proj_mnist, 'tab:green', label = 'Proj. mnist')\n",
    "plt.plot(range(len(Ierr_U_Proj_fashion)), Ierr_U_Proj_fashion, 'tab:cyan', label = 'Proj. fashion' )\n",
    "\n",
    "# DynNet\n",
    "plt.plot(range(len(Ierr_U_Dyn_mnist)), Ierr_U_Dyn_mnist, 'tab:brown', label = 'Dyn. mnist' )\n",
    "plt.plot(range(len(Ierr_U_Dyn_fashion)), Ierr_U_Dyn_fashion, 'tab:gray', label = 'Dyn. fashion' )\n",
    "\n",
    "plt.legend()\n",
    "plt.ylabel('error')\n",
    "plt.xlabel('layers')\n",
    "plt.title(r' $|| U - \\tilde U ||_F$')\n",
    "#plt.savefig('MNISTvsFashionMNIST_accuracy.png')\n",
    "plt.show()\n",
    "\n",
    "plt.figure(figsize=(15, 8), dpi=80)\n",
    "### ResNet\n",
    "\n",
    "# ProjNet\n",
    "plt.plot(range(len(Ierr_V_Proj_mnist)), Ierr_V_Proj_mnist, 'tab:green', label = 'Proj. mnist')\n",
    "plt.plot(range(len(Ierr_V_Proj_fashion)), Ierr_V_Proj_fashion, 'tab:cyan', label = 'Proj. fashion' )\n",
    "\n",
    "\n",
    "# DynNet\n",
    "plt.plot(range(len(Ierr_V_Dyn_mnist)), Ierr_V_Dyn_mnist, 'tab:brown', label = 'Dyn. mnist' )\n",
    "plt.plot(range(len(Ierr_V_Dyn_fashion)), Ierr_V_Dyn_fashion, 'tab:gray', label = 'Dyn. fashion' )\n",
    "\n",
    "plt.legend()\n",
    "plt.ylabel('error')\n",
    "plt.xlabel('layers')\n",
    "plt.title(r' $|| V - \\tilde V ||_F$')\n",
    "#plt.savefig('MNISTvsFashionMNIST_accuracy.png')\n",
    "plt.show()"
   ]
  },
  {
   "cell_type": "code",
   "execution_count": null,
   "metadata": {},
   "outputs": [],
   "source": []
  },
  {
   "cell_type": "code",
   "execution_count": null,
   "metadata": {},
   "outputs": [],
   "source": []
  }
 ],
 "metadata": {
  "kernelspec": {
   "display_name": "Python 3",
   "language": "python",
   "name": "python3"
  },
  "language_info": {
   "codemirror_mode": {
    "name": "ipython",
    "version": 3
   },
   "file_extension": ".py",
   "mimetype": "text/x-python",
   "name": "python",
   "nbconvert_exporter": "python",
   "pygments_lexer": "ipython3",
   "version": "3.8.5"
  }
 },
 "nbformat": 4,
 "nbformat_minor": 4
}
